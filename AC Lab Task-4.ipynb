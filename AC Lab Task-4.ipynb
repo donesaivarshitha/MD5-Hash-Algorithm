{
 "cells": [
  {
   "cell_type": "markdown",
   "id": "9c7111e5-5bb0-43b3-8c15-c1f8c6bb6639",
   "metadata": {},
   "source": [
    "Lab task-4:  Authenticating the signature using MD5 hash algorithm."
   ]
  },
  {
   "cell_type": "code",
   "execution_count": 11,
   "id": "4fa05eda-e6a0-4b01-b479-8696119d6938",
   "metadata": {},
   "outputs": [
    {
     "name": "stdout",
     "output_type": "stream",
     "text": [
      "=== AUTHENTICATING THE SIGNATURE USING MD5 HASH ALGORITHM ===\n",
      "\n"
     ]
    },
    {
     "name": "stdin",
     "output_type": "stream",
     "text": [
      "Enter the secret key (shared between sender and receiver):  mysecret\n",
      "Enter the message to send:  I'm Varshitha, and my pin number is 1234.\n"
     ]
    },
    {
     "name": "stdout",
     "output_type": "stream",
     "text": [
      "\n",
      "=== SENDER SIDE ===\n",
      "Message: I'm Varshitha, and my pin number is 1234.\n",
      "Generated Signature (HMAC-MD5): 82cd35cbc484e7ca1b1cfa2e531a1c8a\n",
      "\n",
      "=== RECEIVER SIDE ===\n",
      "Received Message: I'm Varshitha, and my pin number is 1234.\n"
     ]
    },
    {
     "name": "stdin",
     "output_type": "stream",
     "text": [
      "Enter the received signature (copy from above):  82cd35cbc484e7ca1b1cfa2e531a1c8a\n"
     ]
    },
    {
     "name": "stdout",
     "output_type": "stream",
     "text": [
      "✅ Signature Verified: Message is Authentic\n",
      "\n",
      "=== TAMPERING TEST ===\n"
     ]
    },
    {
     "name": "stdin",
     "output_type": "stream",
     "text": [
      "Enter a tampered message to test verification:  I'm Varshitha, and my pin number is 1231.\n"
     ]
    },
    {
     "name": "stdout",
     "output_type": "stream",
     "text": [
      "❌ Tampered Message Detected - Authentication Failed\n"
     ]
    }
   ],
   "source": [
    "import hmac\n",
    "import hashlib\n",
    "\n",
    "def generate_signature(message: bytes, secret_key: bytes) -> str:\n",
    "    signature = hmac.new(secret_key, message, hashlib.md5).hexdigest()\n",
    "    return signature\n",
    "\n",
    "def verify_signature(message: bytes, secret_key: bytes, received_signature: str) -> bool:\n",
    "    expected_signature = generate_signature(message, secret_key)\n",
    "    return hmac.compare_digest(expected_signature, received_signature)\n",
    "\n",
    "if __name__ == \"__main__\":\n",
    "    print(\"=== AUTHENTICATING THE SIGNATURE USING MD5 HASH ALGORITHM ===\\n\")\n",
    "\n",
    "    secret_key_input = input(\"Enter the secret key (shared between sender and receiver): \")\n",
    "    message_input = input(\"Enter the message to send: \")\n",
    "\n",
    "    secret_key = secret_key_input.encode()\n",
    "    message = message_input.encode()\n",
    "\n",
    "    # Sender Side\n",
    "    sender_signature = generate_signature(message, secret_key)\n",
    "    print(\"\\n=== SENDER SIDE ===\")\n",
    "    print(\"Message:\", message_input)\n",
    "    print(\"Generated Signature (HMAC-MD5):\", sender_signature)\n",
    "\n",
    "    # Receiver Side\n",
    "    print(\"\\n=== RECEIVER SIDE ===\")\n",
    "    print(\"Received Message:\", message_input)\n",
    "    received_sig = input(\"Enter the received signature (copy from above): \")\n",
    "\n",
    "    if verify_signature(message, secret_key, received_sig):\n",
    "        print(\"✅ Signature Verified: Message is Authentic\")\n",
    "    else:\n",
    "        print(\"❌ Signature Verification Failed: Message is Tampered\")\n",
    "\n",
    "    # Tampering Test\n",
    "    print(\"\\n=== TAMPERING TEST ===\")\n",
    "    tampered_message_input = input(\"Enter a tampered message to test verification: \")\n",
    "    tampered_message = tampered_message_input.encode()\n",
    "\n",
    "    if verify_signature(tampered_message, secret_key, sender_signature):\n",
    "        print(\"⚠ Tampered message accepted (should not happen!)\")\n",
    "    else:\n",
    "        print(\"❌ Tampered Message Detected - Authentication Failed\")"
   ]
  }
 ],
 "metadata": {
  "kernelspec": {
   "display_name": "Python [conda env:base] *",
   "language": "python",
   "name": "conda-base-py"
  },
  "language_info": {
   "codemirror_mode": {
    "name": "ipython",
    "version": 3
   },
   "file_extension": ".py",
   "mimetype": "text/x-python",
   "name": "python",
   "nbconvert_exporter": "python",
   "pygments_lexer": "ipython3",
   "version": "3.13.5"
  }
 },
 "nbformat": 4,
 "nbformat_minor": 5
}
